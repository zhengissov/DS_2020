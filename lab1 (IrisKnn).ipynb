{
  "nbformat": 4,
  "nbformat_minor": 0,
  "metadata": {
    "colab": {
      "name": "Welcome To Colaboratory",
      "provenance": [],
      "collapsed_sections": [],
      "toc_visible": true
    },
    "kernelspec": {
      "display_name": "Python 3",
      "name": "python3"
    }
  },
  "cells": [
    {
      "cell_type": "markdown",
      "metadata": {
        "colab_type": "text",
        "id": "5fCEDCU_qrC0"
      },
      "source": [
        "<p><img alt=\"Colaboratory logo\" height=\"45px\" src=\"/img/colab_favicon.ico\" align=\"left\" hspace=\"10px\" vspace=\"0px\"></p>\n",
        "\n",
        "<h1>Welcome to Colaboratory!</h1>\n",
        "\n",
        "\n",
        "Colaboratory is a free Jupyter notebook environment that requires no setup and runs entirely in the cloud.\n",
        "\n",
        "With Colaboratory you can write and execute code, save and share your analyses, and access powerful computing resources, all for free from your browser."
      ]
    },
    {
      "cell_type": "code",
      "metadata": {
        "colab_type": "code",
        "id": "xitplqMNk_Hc",
        "outputId": "ed4f60d2-878d-4056-c438-352dac39a112",
        "colab": {
          "height": 420
        }
      },
      "source": [
        "#@title Introducing Colaboratory { display-mode: \"form\" }\n",
        "#@markdown This 3-minute video gives an overview of the key features of Colaboratory:\n",
        "from IPython.display import YouTubeVideo\n",
        "YouTubeVideo('inN8seMm7UI', width=600, height=400)"
      ],
      "execution_count": 0,
      "outputs": [
        {
          "output_type": "execute_result",
          "data": {
            "text/html": [
              "\n",
              "        <iframe\n",
              "            width=\"600\"\n",
              "            height=\"400\"\n",
              "            src=\"https://www.youtube.com/embed/inN8seMm7UI\"\n",
              "            frameborder=\"0\"\n",
              "            allowfullscreen\n",
              "        ></iframe>\n",
              "        "
            ],
            "text/plain": [
              "<IPython.lib.display.YouTubeVideo at 0x7f956e9dda50>"
            ]
          },
          "metadata": {
            "tags": []
          },
          "execution_count": 0
        }
      ]
    },
    {
      "cell_type": "markdown",
      "metadata": {
        "colab_type": "text",
        "id": "GJBs_flRovLc"
      },
      "source": [
        "## Getting Started\n",
        "\n",
        "The document you are reading is a  [Jupyter notebook](https://jupyter.org/), hosted in Colaboratory. It is not a static page, but an interactive environment that lets you write and execute code in Python and other languages.\n",
        "\n",
        "For example, here is a **code cell** with a short Python script that computes a value, stores it in a variable, and prints the result:"
      ]
    },
    {
      "cell_type": "code",
      "metadata": {
        "colab_type": "code",
        "id": "gJr_9dXGpJ05",
        "outputId": "5626194c-e802-4293-942d-2908885c3c1f",
        "colab": {
          "height": 35
        }
      },
      "source": [
        "seconds_in_a_day = 24 * 60 * 60\n",
        "seconds_in_a_day"
      ],
      "execution_count": 0,
      "outputs": [
        {
          "output_type": "execute_result",
          "data": {
            "text/plain": [
              "86400"
            ]
          },
          "metadata": {
            "tags": []
          },
          "execution_count": 0
        }
      ]
    },
    {
      "cell_type": "markdown",
      "metadata": {
        "colab_type": "text",
        "id": "2fhs6GZ4qFMx"
      },
      "source": [
        "To execute the code in the above cell, select it with a click and then either press the play button to the left of the code, or use the keyboard shortcut \"Command/Ctrl+Enter\".\n",
        "\n",
        "All cells modify the same global state, so variables that you define by executing a cell can be used in other cells:"
      ]
    },
    {
      "cell_type": "code",
      "metadata": {
        "colab_type": "code",
        "id": "-gE-Ez1qtyIA",
        "outputId": "8d2e4259-4682-4e19-b683-7b9087f28820",
        "colab": {
          "height": 35
        }
      },
      "source": [
        "seconds_in_a_week = 7 * seconds_in_a_day\n",
        "seconds_in_a_week"
      ],
      "execution_count": 0,
      "outputs": [
        {
          "output_type": "execute_result",
          "data": {
            "text/plain": [
              "604800"
            ]
          },
          "metadata": {
            "tags": []
          },
          "execution_count": 0
        }
      ]
    },
    {
      "cell_type": "markdown",
      "metadata": {
        "colab_type": "text",
        "id": "lSrWNr3MuFUS"
      },
      "source": [
        "For more information about working with Colaboratory notebooks, see [Overview of Colaboratory](/notebooks/basic_features_overview.ipynb).\n"
      ]
    },
    {
      "cell_type": "markdown",
      "metadata": {
        "colab_type": "text",
        "id": "-Rh3-Vt9Nev9"
      },
      "source": [
        "## More Resources\n",
        "\n",
        "Learn how to make the most of Python, Jupyter, Colaboratory, and related tools with these resources:\n",
        "\n",
        "### Working with Notebooks in Colaboratory\n",
        "- [Overview of Colaboratory](/notebooks/basic_features_overview.ipynb)\n",
        "- [Guide to Markdown](/notebooks/markdown_guide.ipynb)\n",
        "- [Importing libraries and installing dependencies](/notebooks/snippets/importing_libraries.ipynb)\n",
        "- [Saving and loading notebooks in GitHub](https://colab.research.google.com/github/googlecolab/colabtools/blob/master/notebooks/colab-github-demo.ipynb)\n",
        "- [Interactive forms](/notebooks/forms.ipynb)\n",
        "- [Interactive widgets](/notebooks/widgets.ipynb)\n",
        "- <img src=\"/img/new.png\" height=\"20px\" align=\"left\" hspace=\"4px\" alt=\"New\"></img>\n",
        " [TensorFlow 2 in Colab](/notebooks/tensorflow_version.ipynb)\n",
        "\n",
        "### Working with Data\n",
        "- [Loading data: Drive, Sheets, and Google Cloud Storage](/notebooks/io.ipynb) \n",
        "- [Charts: visualizing data](/notebooks/charts.ipynb)\n",
        "- [Getting started with BigQuery](/notebooks/bigquery.ipynb)\n",
        "\n",
        "### Machine Learning Crash Course\n",
        "These are a few of the notebooks from Google's online Machine Learning course. See the [full course website](https://developers.google.com/machine-learning/crash-course/) for more.\n",
        "- [Intro to Pandas](/notebooks/mlcc/intro_to_pandas.ipynb)\n",
        "- [Tensorflow concepts](/notebooks/mlcc/tensorflow_programming_concepts.ipynb)\n",
        "- [First steps with TensorFlow](/notebooks/mlcc/first_steps_with_tensor_flow.ipynb)\n",
        "- [Intro to neural nets](/notebooks/mlcc/intro_to_neural_nets.ipynb)\n",
        "- [Intro to sparse data and embeddings](/notebooks/mlcc/intro_to_sparse_data_and_embeddings.ipynb)\n",
        "\n",
        "### Using Accelerated Hardware\n",
        "- [TensorFlow with GPUs](/notebooks/gpu.ipynb)\n",
        "- [TensorFlow with TPUs](/notebooks/tpu.ipynb)"
      ]
    },
    {
      "cell_type": "markdown",
      "metadata": {
        "colab_type": "text",
        "id": "P-H6Lw1vyNNd"
      },
      "source": [
        "## Machine Learning Examples: Seedbank\n",
        "\n",
        "To see end-to-end examples of the interactive machine learning analyses that Colaboratory makes possible, check out the [Seedbank](https://research.google.com/seedbank/) project.\n",
        "\n",
        "A few featured examples:\n",
        "\n",
        "- [Neural Style Transfer](https://research.google.com/seedbank/seed/neural_style_transfer_with_tfkeras): Use deep learning to transfer style between images.\n",
        "- [EZ NSynth](https://research.google.com/seedbank/seed/ez_nsynth): Synthesize audio with WaveNet auto-encoders.\n",
        "- [Fashion MNIST with Keras and TPUs](https://research.google.com/seedbank/seed/fashion_mnist_with_keras_and_tpus): Classify fashion-related images with deep learning.\n",
        "- [DeepDream](https://research.google.com/seedbank/seed/deepdream): Produce DeepDream images from your own photos.\n",
        "- [Convolutional VAE](https://research.google.com/seedbank/seed/convolutional_vae): Create a generative model of handwritten digits."
      ]
    },
    {
      "cell_type": "code",
      "metadata": {
        "id": "wHBjMrf-Ihqc",
        "colab_type": "code",
        "colab": {}
      },
      "source": [
        "import numpy as np\n",
        "from sklearn import datasets\n",
        "from sklearn.neighbors import KNeighborsClassifier"
      ],
      "execution_count": 0,
      "outputs": []
    },
    {
      "cell_type": "code",
      "metadata": {
        "id": "_u4ThI04Ili9",
        "colab_type": "code",
        "colab": {
          "base_uri": "https://localhost:8080/",
          "height": 34
        },
        "outputId": "0bf8700f-dda9-45af-f9e9-5f0b63bb6d7e"
      },
      "source": [
        "iris = datasets.load_iris()\n",
        "iris_X = iris.data\n",
        "iris_y = iris.target\n",
        "np.unique(iris_y)\n",
        "len(iris_X)"
      ],
      "execution_count": 2,
      "outputs": [
        {
          "output_type": "execute_result",
          "data": {
            "text/plain": [
              "150"
            ]
          },
          "metadata": {
            "tags": []
          },
          "execution_count": 2
        }
      ]
    },
    {
      "cell_type": "code",
      "metadata": {
        "id": "tWBmEM9RIpXG",
        "colab_type": "code",
        "colab": {
          "base_uri": "https://localhost:8080/",
          "height": 1000
        },
        "outputId": "87d4d74f-7988-4037-fe03-470b82dcb012"
      },
      "source": [
        "indices = np.random.permutation(len(iris_X))\n",
        "iris_X_train = iris_X[indices[:-10]]\n",
        "iris_y_train = iris_y[indices[:-10]]\n",
        "iris_X_test = iris_X[indices[-10:]]\n",
        "iris_y_test = iris_y[indices[-10:]]\n",
        "knn = KNeighborsClassifier()\n",
        "knn.fit(iris_X_train, iris_y_train) \n",
        "KNeighborsClassifier(algorithm='auto', leaf_size=30, metric='minkowski',\n",
        "           metric_params=None, n_jobs=None, n_neighbors=5, p=2,\n",
        "           weights='uniform')\n",
        "knn.predict(iris_X_test)\n",
        "print(iris_X_train)\n",
        "print(iris_y_train)\n",
        "print(iris_X_test)\n",
        "iris_y_test"
      ],
      "execution_count": 3,
      "outputs": [
        {
          "output_type": "stream",
          "text": [
            "[[6.8 3.  5.5 2.1]\n",
            " [6.  2.9 4.5 1.5]\n",
            " [7.6 3.  6.6 2.1]\n",
            " [5.4 3.4 1.5 0.4]\n",
            " [6.4 2.7 5.3 1.9]\n",
            " [6.7 2.5 5.8 1.8]\n",
            " [5.1 3.8 1.6 0.2]\n",
            " [6.5 2.8 4.6 1.5]\n",
            " [5.  3.4 1.6 0.4]\n",
            " [5.1 3.8 1.5 0.3]\n",
            " [6.4 3.1 5.5 1.8]\n",
            " [7.3 2.9 6.3 1.8]\n",
            " [5.5 2.3 4.  1.3]\n",
            " [4.3 3.  1.1 0.1]\n",
            " [6.9 3.1 5.4 2.1]\n",
            " [5.5 4.2 1.4 0.2]\n",
            " [6.7 3.3 5.7 2.5]\n",
            " [6.1 2.9 4.7 1.4]\n",
            " [6.5 3.2 5.1 2. ]\n",
            " [6.  2.2 5.  1.5]\n",
            " [6.8 3.2 5.9 2.3]\n",
            " [7.7 2.6 6.9 2.3]\n",
            " [4.4 3.  1.3 0.2]\n",
            " [5.  3.4 1.5 0.2]\n",
            " [5.2 3.4 1.4 0.2]\n",
            " [4.8 3.  1.4 0.1]\n",
            " [5.8 2.8 5.1 2.4]\n",
            " [5.8 4.  1.2 0.2]\n",
            " [7.2 3.6 6.1 2.5]\n",
            " [4.9 3.1 1.5 0.2]\n",
            " [5.  3.5 1.3 0.3]\n",
            " [6.1 2.8 4.7 1.2]\n",
            " [4.9 3.6 1.4 0.1]\n",
            " [4.9 2.4 3.3 1. ]\n",
            " [5.8 2.7 5.1 1.9]\n",
            " [5.5 2.5 4.  1.3]\n",
            " [7.7 3.  6.1 2.3]\n",
            " [6.2 2.8 4.8 1.8]\n",
            " [6.3 2.7 4.9 1.8]\n",
            " [5.1 3.4 1.5 0.2]\n",
            " [5.7 3.8 1.7 0.3]\n",
            " [6.4 3.2 4.5 1.5]\n",
            " [5.4 3.  4.5 1.5]\n",
            " [5.2 3.5 1.5 0.2]\n",
            " [5.  2.3 3.3 1. ]\n",
            " [5.8 2.7 5.1 1.9]\n",
            " [7.2 3.  5.8 1.6]\n",
            " [5.4 3.4 1.7 0.2]\n",
            " [5.  3.5 1.6 0.6]\n",
            " [6.3 3.3 6.  2.5]\n",
            " [5.8 2.7 4.1 1. ]\n",
            " [4.9 2.5 4.5 1.7]\n",
            " [6.3 3.3 4.7 1.6]\n",
            " [6.3 2.3 4.4 1.3]\n",
            " [5.1 3.5 1.4 0.3]\n",
            " [6.1 2.8 4.  1.3]\n",
            " [5.1 3.8 1.9 0.4]\n",
            " [4.8 3.1 1.6 0.2]\n",
            " [5.5 3.5 1.3 0.2]\n",
            " [6.  3.  4.8 1.8]\n",
            " [7.2 3.2 6.  1.8]\n",
            " [5.1 3.5 1.4 0.2]\n",
            " [5.  3.3 1.4 0.2]\n",
            " [5.6 3.  4.1 1.3]\n",
            " [5.9 3.  5.1 1.8]\n",
            " [5.  2.  3.5 1. ]\n",
            " [6.7 3.1 5.6 2.4]\n",
            " [4.8 3.  1.4 0.3]\n",
            " [5.  3.6 1.4 0.2]\n",
            " [4.5 2.3 1.3 0.3]\n",
            " [5.9 3.  4.2 1.5]\n",
            " [6.6 2.9 4.6 1.3]\n",
            " [4.6 3.6 1.  0.2]\n",
            " [5.4 3.7 1.5 0.2]\n",
            " [6.1 2.6 5.6 1.4]\n",
            " [5.1 3.3 1.7 0.5]\n",
            " [6.7 3.  5.  1.7]\n",
            " [6.5 3.  5.5 1.8]\n",
            " [6.7 3.1 4.7 1.5]\n",
            " [6.3 2.8 5.1 1.5]\n",
            " [6.5 3.  5.8 2.2]\n",
            " [7.  3.2 4.7 1.4]\n",
            " [5.3 3.7 1.5 0.2]\n",
            " [7.7 3.8 6.7 2.2]\n",
            " [6.2 3.4 5.4 2.3]\n",
            " [6.9 3.1 4.9 1.5]\n",
            " [5.8 2.6 4.  1.2]\n",
            " [4.8 3.4 1.9 0.2]\n",
            " [6.2 2.2 4.5 1.5]\n",
            " [5.6 2.8 4.9 2. ]\n",
            " [6.4 2.9 4.3 1.3]\n",
            " [6.2 2.9 4.3 1.3]\n",
            " [5.1 2.5 3.  1.1]\n",
            " [5.5 2.6 4.4 1.2]\n",
            " [6.4 3.2 5.3 2.3]\n",
            " [4.4 2.9 1.4 0.2]\n",
            " [5.1 3.7 1.5 0.4]\n",
            " [6.5 3.  5.2 2. ]\n",
            " [5.7 4.4 1.5 0.4]\n",
            " [5.6 2.5 3.9 1.1]\n",
            " [5.6 2.7 4.2 1.3]\n",
            " [5.7 3.  4.2 1.2]\n",
            " [5.7 2.8 4.1 1.3]\n",
            " [6.3 2.5 5.  1.9]\n",
            " [6.4 2.8 5.6 2.2]\n",
            " [6.3 2.9 5.6 1.8]\n",
            " [6.3 3.4 5.6 2.4]\n",
            " [4.8 3.4 1.6 0.2]\n",
            " [5.7 2.6 3.5 1. ]\n",
            " [5.7 2.8 4.5 1.3]\n",
            " [6.8 2.8 4.8 1.4]\n",
            " [5.6 3.  4.5 1.5]\n",
            " [6.4 2.8 5.6 2.1]\n",
            " [4.7 3.2 1.6 0.2]\n",
            " [6.7 3.3 5.7 2.1]\n",
            " [4.4 3.2 1.3 0.2]\n",
            " [6.1 3.  4.6 1.4]\n",
            " [4.6 3.1 1.5 0.2]\n",
            " [5.7 2.9 4.2 1.3]\n",
            " [6.6 3.  4.4 1.4]\n",
            " [6.  3.4 4.5 1.6]\n",
            " [5.6 2.9 3.6 1.3]\n",
            " [5.7 2.5 5.  2. ]\n",
            " [6.7 3.1 4.4 1.4]\n",
            " [6.1 3.  4.9 1.8]\n",
            " [5.8 2.7 3.9 1.2]\n",
            " [5.  3.2 1.2 0.2]\n",
            " [5.4 3.9 1.3 0.4]\n",
            " [6.  2.7 5.1 1.6]\n",
            " [5.9 3.2 4.8 1.8]\n",
            " [6.9 3.2 5.7 2.3]\n",
            " [7.1 3.  5.9 2.1]\n",
            " [6.7 3.  5.2 2.3]\n",
            " [4.6 3.2 1.4 0.2]\n",
            " [6.9 3.1 5.1 2.3]\n",
            " [7.4 2.8 6.1 1.9]\n",
            " [6.  2.2 4.  1. ]\n",
            " [4.9 3.  1.4 0.2]\n",
            " [7.7 2.8 6.7 2. ]\n",
            " [5.5 2.4 3.8 1.1]]\n",
            "[2 1 2 0 2 2 0 1 0 0 2 2 1 0 2 0 2 1 2 2 2 2 0 0 0 0 2 0 2 0 0 1 0 1 2 1 2\n",
            " 2 2 0 0 1 1 0 1 2 2 0 0 2 1 2 1 1 0 1 0 0 0 2 2 0 0 1 2 1 2 0 0 0 1 1 0 0\n",
            " 2 0 1 2 1 2 2 1 0 2 2 1 1 0 1 2 1 1 1 1 2 0 0 2 0 1 1 1 1 2 2 2 2 0 1 1 1\n",
            " 1 2 0 2 0 1 0 1 1 1 1 2 1 2 1 0 0 1 1 2 2 2 0 2 2 1 0 2 1]\n",
            "[[6.3 2.5 4.9 1.5]\n",
            " [5.2 4.1 1.5 0.1]\n",
            " [5.2 2.7 3.9 1.4]\n",
            " [5.5 2.4 3.7 1. ]\n",
            " [7.9 3.8 6.4 2. ]\n",
            " [4.9 3.1 1.5 0.1]\n",
            " [5.4 3.9 1.7 0.4]\n",
            " [4.6 3.4 1.4 0.3]\n",
            " [4.7 3.2 1.3 0.2]\n",
            " [5.  3.  1.6 0.2]]\n"
          ],
          "name": "stdout"
        },
        {
          "output_type": "execute_result",
          "data": {
            "text/plain": [
              "array([1, 0, 1, 1, 2, 0, 0, 0, 0, 0])"
            ]
          },
          "metadata": {
            "tags": []
          },
          "execution_count": 3
        }
      ]
    }
  ]
}