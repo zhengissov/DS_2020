{
  "nbformat": 4,
  "nbformat_minor": 0,
  "metadata": {
    "colab": {
      "name": "lab 3 (Boston Linear).ipynb",
      "provenance": []
    },
    "kernelspec": {
      "name": "python3",
      "display_name": "Python 3"
    }
  },
  "cells": [
    {
      "cell_type": "code",
      "metadata": {
        "id": "H-w2lLaoOZx8",
        "colab_type": "code",
        "colab": {}
      },
      "source": [
        "import pandas as pd\n",
        "import numpy as np\n",
        "from sklearn import linear_model\n",
        "from sklearn.datasets import load_boston  \n",
        "from sklearn.model_selection import train_test_split"
      ],
      "execution_count": 0,
      "outputs": []
    },
    {
      "cell_type": "code",
      "metadata": {
        "id": "l-K4PmLlOiKU",
        "colab_type": "code",
        "colab": {
          "base_uri": "https://localhost:8080/",
          "height": 102
        },
        "outputId": "3727f963-a200-4273-9fad-933b63f27051"
      },
      "source": [
        "dataset = load_boston()\n",
        "df_x = pd.DataFrame(dataset.data, columns = dataset.feature_names)\n",
        "df_y = pd.DataFrame(dataset.target)\n",
        "\n",
        "reg = linear_model.LinearRegression()\n",
        "x_train, x_test, y_train, y_test = train_test_split(df_x,df_y, train_size=0.2)\n",
        "\n",
        "reg.fit(x_train,y_train)\n",
        "\n",
        "reg.coef_"
      ],
      "execution_count": 2,
      "outputs": [
        {
          "output_type": "execute_result",
          "data": {
            "text/plain": [
              "array([[-1.93677076e-01,  7.35592780e-02, -2.10402329e-02,\n",
              "         5.16925027e+00, -2.39023740e+01,  2.56284073e+00,\n",
              "         6.03108541e-02, -1.67761573e+00,  6.06869395e-01,\n",
              "        -2.48192123e-02, -6.68870180e-01,  1.00106757e-02,\n",
              "        -7.04620095e-01]])"
            ]
          },
          "metadata": {
            "tags": []
          },
          "execution_count": 2
        }
      ]
    },
    {
      "cell_type": "code",
      "metadata": {
        "id": "dafRgJu5OllT",
        "colab_type": "code",
        "colab": {
          "base_uri": "https://localhost:8080/",
          "height": 34
        },
        "outputId": "8595e01e-6b8a-4466-838f-c4d521d177ca"
      },
      "source": [
        "a = reg.predict(x_test)\n",
        "a[0]"
      ],
      "execution_count": 3,
      "outputs": [
        {
          "output_type": "execute_result",
          "data": {
            "text/plain": [
              "array([1.20025486])"
            ]
          },
          "metadata": {
            "tags": []
          },
          "execution_count": 3
        }
      ]
    },
    {
      "cell_type": "code",
      "metadata": {
        "id": "Pap3DfsQOlcr",
        "colab_type": "code",
        "colab": {
          "base_uri": "https://localhost:8080/",
          "height": 221
        },
        "outputId": "b7aa4c65-1e57-4597-a93a-a73e1c5097cb"
      },
      "source": [
        "y_test[0]"
      ],
      "execution_count": 4,
      "outputs": [
        {
          "output_type": "execute_result",
          "data": {
            "text/plain": [
              "412    17.9\n",
              "235    24.0\n",
              "225    50.0\n",
              "395    13.1\n",
              "216    23.3\n",
              "       ... \n",
              "433    14.3\n",
              "0      24.0\n",
              "409    27.5\n",
              "10     15.0\n",
              "170    17.4\n",
              "Name: 0, Length: 405, dtype: float64"
            ]
          },
          "metadata": {
            "tags": []
          },
          "execution_count": 4
        }
      ]
    },
    {
      "cell_type": "code",
      "metadata": {
        "id": "4CkpUCZ4Oo-N",
        "colab_type": "code",
        "colab": {
          "base_uri": "https://localhost:8080/",
          "height": 51
        },
        "outputId": "829448fb-90e2-45c5-ec01-cd69fe079e59"
      },
      "source": [
        "#mean square error\n",
        "np.mean((a-y_test)**2)"
      ],
      "execution_count": 5,
      "outputs": [
        {
          "output_type": "execute_result",
          "data": {
            "text/plain": [
              "0    25.663452\n",
              "dtype: float64"
            ]
          },
          "metadata": {
            "tags": []
          },
          "execution_count": 5
        }
      ]
    }
  ]
}